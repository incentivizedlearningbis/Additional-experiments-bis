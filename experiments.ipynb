{
 "cells": [
  {
   "cell_type": "code",
   "execution_count": 35,
   "metadata": {},
   "outputs": [],
   "source": [
    "import pandas as pd\n",
    "import numpy as np\n",
    "import matplotlib.pyplot as plt\n",
    "from scipy import special\n",
    "import math\n",
    "from scipy.stats import bernoulli\n",
    "from scipy.optimize import minimize\n",
    "from scipy.optimize import differential_evolution\n",
    "from scipy.optimize import linprog"
   ]
  },
  {
   "cell_type": "code",
   "execution_count": 36,
   "metadata": {},
   "outputs": [],
   "source": [
    "def form_A_matrix(k):\n",
    "    # Create a base matrix (identity matrix)\n",
    "    identity_matrix = np.eye(k)\n",
    "\n",
    "    # Create the negative counterpart\n",
    "    negative_matrix = -np.eye(k)\n",
    "\n",
    "    # Repeat identity matrix k times vertically and negative matrix k times horizontally\n",
    "    repeated_identity = np.repeat(identity_matrix, k, axis=0)\n",
    "    repeated_negative = np.tile(negative_matrix, (k, 1))\n",
    "\n",
    "    # Combine the repeated matrices\n",
    "    return repeated_identity + repeated_negative"
   ]
  },
  {
   "cell_type": "code",
   "execution_count": 37,
   "metadata": {},
   "outputs": [],
   "source": [
    "def agent_oracle(s, incentive):\n",
    "    return np.argmax(s+incentive)"
   ]
  },
  {
   "cell_type": "code",
   "execution_count": 38,
   "metadata": {},
   "outputs": [],
   "source": [
    "class MoyenneEmpirique(object):\n",
    "\n",
    "    def __init__(self, K, horizon,s, s_min, s_max):\n",
    "        self.K = K\n",
    "        self.recompenses = np.zeros(K)  # Reward\n",
    "        self.tirages = np.zeros(K)      # Number of pulls\n",
    "        self.t = 0                      # Time t\n",
    "        self.horizon = 0\n",
    "\n",
    "    def begin(self):\n",
    "        self.recompenses.fill(0)\n",
    "        self.tirages.fill(0)\n",
    "        self.t = 0\n",
    "\n",
    "    def choose(self):\n",
    "        # 1st case: more arms to play\n",
    "        if np.min(self.tirages) == 0:\n",
    "            k = np.min(np.where(self.tirages == 0)[0])\n",
    "        # 2nd case : all arms have been played\n",
    "        else:\n",
    "            moyennes_empiriques = self.recompenses / np.max(1, self.tirages)\n",
    "            k = np.argmax(moyennes_empiriques)\n",
    "        self.t += 1\n",
    "        return k\n",
    "\n",
    "    def reward(self, k, r):\n",
    "        self.recompenses[k] += r\n",
    "        self.tirages[k] += 1"
   ]
  },
  {
   "cell_type": "code",
   "execution_count": 39,
   "metadata": {},
   "outputs": [],
   "source": [
    "class UCB(MoyenneEmpirique):\n",
    "\n",
    "    def __init__(self, K, horizon):\n",
    "        self.horizon = int(horizon)\n",
    "        #assert alpha >= 0, \"Erreur : alpha doit etre >= 0.\"\n",
    "        self.alpha = 4   # UCB parameter, defined with respect to the rewards' subgaussianity\n",
    "        self.K = K\n",
    "        self.recompenses = np.zeros(self.K)\n",
    "        self.t = 0\n",
    "        self.tirages = np.zeros(self.K)\n",
    "\n",
    "    def begin(self):\n",
    "        self.recompenses.fill(0)\n",
    "        self.tirages.fill(0)\n",
    "        self.t = 0\n",
    "\n",
    "    def choose(self):\n",
    "        self.t += 1\n",
    "        if np.min(self.tirages) == 0:\n",
    "            k = np.min(np.where(self.tirages == 0)[0])\n",
    "        else:\n",
    "            moyennes_empiriques = self.recompenses / self.tirages\n",
    "            ucb = np.sqrt(self.alpha * np.log(self.horizon) / self.tirages)\n",
    "            indices = moyennes_empiriques + ucb\n",
    "            k = np.argmax(indices)\n",
    "        return k\n",
    "    \n",
    "    def reward(self, k, r):\n",
    "        self.recompenses[k] += r\n",
    "        self.tirages[k] += 1"
   ]
  },
  {
   "cell_type": "code",
   "execution_count": 40,
   "metadata": {},
   "outputs": [],
   "source": [
    "class ipa(MoyenneEmpirique):\n",
    "\n",
    "    def __init__(self, K, horizon, s_min, s_max):\n",
    "        self.alpha = 4 # 4 for 1-subgaussian and horizon in the log\n",
    "        self.horizon = int(horizon)\n",
    "        self.K = K\n",
    "        self.recompenses = np.zeros(K)  # Reward\n",
    "        self.tirages = np.zeros(K)      # Number of pulls\n",
    "        self.t = 0                      # Time t\n",
    "        self.steps = 0\n",
    "        self.incentive = np.zeros(K)\n",
    "        self.s_min = s_min\n",
    "        self.s_max = s_max\n",
    "        self.estimates_low = np.zeros(K).astype(float)\n",
    "        self.estimates_high = np.full(K,self.s_max-self.s_min).astype(float)\n",
    "\n",
    "    def begin(self):\n",
    "        self.recompenses.fill(0)\n",
    "        self.tirages.fill(0)\n",
    "        self.t = 0\n",
    "        self.estimates_low = np.zeros(K)\n",
    "        self.estimates_high = np.full(K,self.s_max-self.s_min).astype(float)\n",
    "\n",
    "    def design(self, s):\n",
    "        # 1st case : binary search\n",
    "        self.incentive = np.zeros(self.K)\n",
    "        if self.t < K*np.ceil(np.log(self.horizon)/np.log(2)):\n",
    "            k = self.t%K\n",
    "            mid = (self.estimates_low[k]+self.estimates_high[k])/2\n",
    "            self.incentive[k] = mid\n",
    "            self.t += 1\n",
    "            if agent_oracle(s,self.incentive)==k:\n",
    "                self.estimates_high[k] = mid\n",
    "            else:\n",
    "                self.estimates_low[k] = mid\n",
    "            return self.incentive\n",
    "        #2nd case: UCB subroutine\n",
    "        if self.t == K*np.ceil(np.log(self.horizon)/np.log(2)):\n",
    "            self.recompenses.fill(0)\n",
    "            self.tirages.fill(0)\n",
    "            k = 0\n",
    "            self.incentive[k] = self.estimates_high[k] + 1/(self.horizon)**2\n",
    "            self.t += 1\n",
    "        if np.min(self.tirages) == 0:\n",
    "            k = np.min(np.where(self.tirages == 0)[0])\n",
    "            self.incentive[k] = self.estimates_high[k] + 1/(self.horizon)**2\n",
    "            self.t += 1\n",
    "        else:\n",
    "            moyennes_empiriques = self.recompenses / self.tirages\n",
    "            ucb = np.sqrt(self.alpha * np.log(self.horizon) / self.tirages)\n",
    "            indices = moyennes_empiriques + ucb\n",
    "            k = np.argmax(indices)\n",
    "            self.incentive[k] = self.estimates_high[k] + 1/(self.horizon)**2\n",
    "            self.t += 1\n",
    "        return self.incentive\n",
    "\n",
    "    def reward(self, k, r):\n",
    "        self.recompenses[k] += r\n",
    "        self.tirages[k] += 1"
   ]
  },
  {
   "cell_type": "code",
   "execution_count": 41,
   "metadata": {},
   "outputs": [],
   "source": [
    "class epsilon_greedy(MoyenneEmpirique):\n",
    "\n",
    "    def __init__(self, K, horizon, s_min, s_max):\n",
    "        self.alpha = 1\n",
    "        self.m = 500\n",
    "        self.epsilon = 0\n",
    "        self.beta = 0\n",
    "        self.horizon = int(horizon)\n",
    "        self.K = K\n",
    "        self.recompenses = np.zeros(K)  # Reward\n",
    "        self.tirages = np.zeros(K)      # Number of pulls\n",
    "        self.t = 0                      # Time t\n",
    "        self.steps = 0\n",
    "        self.eta = 0\n",
    "        self.incentive = np.zeros(self.K)\n",
    "        self.s_min = s_min\n",
    "        self.s_max = s_max\n",
    "        self.A = self.form_A_matrix(self.K)\n",
    "        # Contains rhs for inequalities of type s_a - s_b <= B(a,b)\n",
    "        self.B_delta_s = np.ones((self.K, self.K)) * 1e8\n",
    "\n",
    "        self.indice_list = []\n",
    "        self.incentive_list = []\n",
    "\n",
    "    def begin(self):\n",
    "        self.recompenses.fill(0)\n",
    "        self.tirages.fill(0)\n",
    "        self.t = 0\n",
    "        self.eta = 0\n",
    "        self.beta = 0\n",
    "        self.epsilon = 0\n",
    "        self.estimates_low = np.zeros(K)\n",
    "        self.estimates_high = np.full(K,self.s_max-self.s_min).astype(float)\n",
    "        self.indice_list = []\n",
    "        self.incentive_list = []\n",
    "        self.incentive = np.zeros(self.K)\n",
    "        self.explore = True\n",
    "\n",
    "    def form_A_matrix(self, k):\n",
    "        # Create a base matrix (identity matrix)\n",
    "        identity_matrix = np.eye(k)\n",
    "        negative_matrix = -np.eye(k)\n",
    "        repeated_identity = np.repeat(identity_matrix, k, axis=0)\n",
    "        repeated_negative = np.tile(negative_matrix, (k, 1))\n",
    "\n",
    "        return repeated_identity + repeated_negative\n",
    "\n",
    "    def loss(self, s):\n",
    "        for tau in range(self.t):\n",
    "            icv = self.incentive_list[tau]\n",
    "            chosen_arm = self.indice_list[tau]\n",
    "            for a in range(self.K):\n",
    "                if (np.array(s)+np.array(icv))[a] > (np.array(s)+np.array(icv))[chosen_arm]:\n",
    "                    return 10**4\n",
    "        return 0\n",
    "\n",
    "    def update_lin_system(self, incentive, k):\n",
    "        self.B_delta_s[:, k] = np.minimum(self.B_delta_s[:, k], incentive[k] - incentive)\n",
    "\n",
    "    def compute_incentive(self):\n",
    "        cost = np.zeros((self.K))\n",
    "        result = linprog(\n",
    "            c = cost,\n",
    "            A_ub = self.A,\n",
    "            b_ub = self.B_delta_s.reshape(-1),\n",
    "            bounds= np.array([(self.s_min, self.s_max) for _ in range(self.K)])\n",
    "        )\n",
    "        return result.x\n",
    "\n",
    "    def design(self, s):\n",
    "        # 1st case : one round per arm\n",
    "        self.incentive = np.zeros(self.K)\n",
    "        if self.t < self.K:\n",
    "            k = self.t\n",
    "            self.incentive[k] = self.s_max\n",
    "            self.incentive_list.append(self.incentive)\n",
    "            self.indice_list.append(agent_oracle(s, self.incentive))\n",
    "            self.t += 1\n",
    "        else:\n",
    "            self.epsilon = min(1, self.m/(self.t))\n",
    "            x = bernoulli.rvs(self.epsilon, size=1)[0]\n",
    "            if x==1:\n",
    "                self.explore = True\n",
    "                self.incentive = np.random.uniform(self.s_min,self.s_max, self.K)\n",
    "                self.eta += 1\n",
    "            else:\n",
    "                self.explore = False\n",
    "                self.beta = np.sqrt(np.log(max(self.eta-1, 1))/(self.alpha*max(1, self.eta - 1)))\n",
    "                estimate_incentive = self.compute_incentive()\n",
    "                value = []\n",
    "                for j in range(self.K):\n",
    "                    moyennes_empiriques = self.recompenses / self.tirages\n",
    "\n",
    "                    value.append(moyennes_empiriques[j] - np.max(estimate_incentive) + estimate_incentive[j] + 2 * self.beta)\n",
    "                    k = np.argmax(value)\n",
    "                    self.incentive = np.zeros(self.K)\n",
    "                    self.incentive[k] = np.max(estimate_incentive) - estimate_incentive[k] + 2* self.beta\n",
    "            self.t += 1\n",
    "            self.incentive_list.append(self.incentive)\n",
    "            self.indice_list.append(agent_oracle(s, self.incentive))\n",
    "        return self.incentive\n",
    "\n",
    "    def reward(self, k, r):\n",
    "        if self.explore:\n",
    "            self.update_lin_system(self.incentive, k)\n",
    "        self.recompenses[k] += r\n",
    "        self.tirages[k] += 1"
   ]
  },
  {
   "cell_type": "code",
   "execution_count": 42,
   "metadata": {},
   "outputs": [],
   "source": [
    "true_reward = np.array([0.30, 0.24, 0.88, 0.07, 0.65])\n",
    "s_vector = np.array([0.64, 0.99, 0.73, 0.61, 0.59])\n",
    "test_reward = np.array([-0.05,  0.24,  0.62, -0.31,  0.25])  #test_reward = true_reward + s_vector - np.array([0.99, 0.99, 0.99, 0.99, 0.99])"
   ]
  },
  {
   "cell_type": "code",
   "execution_count": 43,
   "metadata": {},
   "outputs": [],
   "source": [
    "from tqdm.notebook import trange\n",
    " \n",
    "def simulation(algorithm, steps, s_vector):\n",
    "    choice, reward, reward_cum = np.zeros(steps), np.zeros(steps), 0\n",
    "    algorithm.begin()  #we initialize the algorithm\n",
    "\n",
    "    for i in trange(steps):\n",
    "        incentive = algorithm.design(s_vector)\n",
    "        choice_i = agent_oracle(s_vector, incentive)\n",
    "\n",
    "        reward_i = np.random.normal(true_reward[choice_i], 1) - incentive[choice_i]\n",
    "        reward_cum += reward_i\n",
    "        algorithm.reward(choice_i, reward_i)\n",
    "        choice[i], reward[i] = choice_i, reward_cum/(i+1)\n",
    "\n",
    "    return reward\n",
    "\n",
    "def simulation_regret_UCB(algorithm, steps, K, true_reward):\n",
    "    choice, reward, reward_cum, regret = np.zeros(steps), np.zeros(steps), 0, np.zeros(steps)\n",
    "    algorithm.begin()  #we initialize the algorithm\n",
    "\n",
    "    for i in trange(steps):\n",
    "        choice_i = algorithm.choose()\n",
    "\n",
    "        reward_i = np.random.normal(true_reward[choice_i], theta_var)\n",
    "        reward_cum += reward_i\n",
    "\n",
    "        regret_i = np.max(true_reward) - true_reward[choice_i]\n",
    "        if i >=1:\n",
    "            regret[i] = regret[i-1] + regret_i\n",
    "        algorithm.reward(choice_i, reward_i)  #we update the reward given to the arm in the algorithm\n",
    "        choice[i], reward[i] = choice_i, reward_cum/(i+1)\n",
    "    return regret\n",
    "\n",
    "def simulation_regret(algorithm, steps, K, s_vector, true_reward, theta_var):\n",
    "    choice, reward, reward_cum, regret = np.zeros(steps), np.zeros(steps), 0, np.zeros(steps)\n",
    "    algorithm.begin()  #we initialize the algorithm\n",
    "\n",
    "    for i in trange(steps):\n",
    "        incentive = algorithm.design(s_vector)\n",
    "        choice_i = agent_oracle(s_vector, incentive)\n",
    "\n",
    "        reward_i = np.random.normal(true_reward[choice_i], theta_var) - incentive[choice_i]\n",
    "        reward_cum += reward_i\n",
    "\n",
    "        optimal_incentive = np.full(K,np.max(s_vector)).astype(float) - s_vector\n",
    "        regret_i = np.max(true_reward - optimal_incentive) - (true_reward - optimal_incentive)[choice_i]\n",
    "        if i >=1:\n",
    "            regret[i] = regret[i-1] + regret_i\n",
    "        algorithm.reward(choice_i, reward_i)  #we update the reward given to the arm in the algorithm\n",
    "        choice[i], reward[i] = choice_i, reward_cum/(i+1)\n",
    "\n",
    "    return regret\n",
    "\n",
    "def simulation_many_episodes(algorithm, steps, episodes, K, s_min, s_max, theta_min, theta_max, theta_var):\n",
    "    overall_regret = [] #np.zeros(steps)\n",
    "    true_reward = np.array([0.30, 0.24, 0.88, 0.07, 0.65])\n",
    "    print(true_reward)\n",
    "    s_vector = np.array([0.64, 0.99, 0.73, 0.61, 0.59])\n",
    "    for i in trange(episodes):\n",
    "        algorithm.begin()\n",
    "        overall_regret.append(simulation_regret(algorithm, steps, K, s_vector, true_reward, theta_var))\n",
    "    #overall_regret = overall_regret/episodes\n",
    "    return np.array(overall_regret).mean(axis=0), np.array(overall_regret).std(axis=0)"
   ]
  },
  {
   "cell_type": "code",
   "execution_count": 44,
   "metadata": {},
   "outputs": [],
   "source": [
    "def simulation_regret_UCB(algorithm, horizon, K, ucb_reward, theta_var):\n",
    "    choice, reward, reward_cum, regret = np.zeros(horizon), np.zeros(horizon), 0, np.zeros(horizon)\n",
    "    algorithm.begin() \n",
    "    for i in trange(horizon):\n",
    "        choice_i = algorithm.choose()\n",
    "        reward_i = np.random.normal(ucb_reward[choice_i], theta_var)\n",
    "        reward_cum += reward_i\n",
    "        regret_i = np.max(ucb_reward) - ucb_reward[choice_i]\n",
    "        if i >=1:\n",
    "            regret[i] = regret[i-1] + regret_i\n",
    "        algorithm.reward(choice_i, reward_i)  #we update the reward given to the arm in the algorithm\n",
    "        choice[i], reward[i] = choice_i, reward_cum/(i+1)\n",
    "    return regret\n",
    "def simulation_many_episodes_UCB(algorithm, horizon, episodes, K, theta_var):\n",
    "    overall_regret = []\n",
    "    ucb_reward = np.array([-0.05,  0.24,  0.62, -0.31,  0.25])\n",
    "    for i in range(episodes):\n",
    "        algorithm.begin()\n",
    "        overall_regret.append(simulation_regret_UCB(algorithm, horizon, K, ucb_reward, theta_var))\n",
    "    return np.array(overall_regret).mean(axis = 0), np.array(overall_regret).std(axis = 0)"
   ]
  },
  {
   "cell_type": "code",
   "execution_count": 45,
   "metadata": {},
   "outputs": [
    {
     "name": "stdout",
     "output_type": "stream",
     "text": [
      "[0.3  0.24 0.88 0.07 0.65]\n"
     ]
    },
    {
     "data": {
      "application/vnd.jupyter.widget-view+json": {
       "model_id": "e850f35b50f6457585c28d903c107b2d",
       "version_major": 2,
       "version_minor": 0
      },
      "text/plain": [
       "  0%|          | 0/30 [00:00<?, ?it/s]"
      ]
     },
     "metadata": {},
     "output_type": "display_data"
    },
    {
     "data": {
      "application/vnd.jupyter.widget-view+json": {
       "model_id": "d2c81634b1a14dd5800f8a0360ba5faf",
       "version_major": 2,
       "version_minor": 0
      },
      "text/plain": [
       "  0%|          | 0/10000 [00:00<?, ?it/s]"
      ]
     },
     "metadata": {},
     "output_type": "display_data"
    },
    {
     "data": {
      "application/vnd.jupyter.widget-view+json": {
       "model_id": "5ddbe59eb78c48589c2f611824227988",
       "version_major": 2,
       "version_minor": 0
      },
      "text/plain": [
       "  0%|          | 0/10000 [00:00<?, ?it/s]"
      ]
     },
     "metadata": {},
     "output_type": "display_data"
    },
    {
     "data": {
      "application/vnd.jupyter.widget-view+json": {
       "model_id": "0b8bcd50b3964a7a82d1669969249c2f",
       "version_major": 2,
       "version_minor": 0
      },
      "text/plain": [
       "  0%|          | 0/10000 [00:00<?, ?it/s]"
      ]
     },
     "metadata": {},
     "output_type": "display_data"
    },
    {
     "data": {
      "application/vnd.jupyter.widget-view+json": {
       "model_id": "ed6503ec21a044d4b313026604e79a88",
       "version_major": 2,
       "version_minor": 0
      },
      "text/plain": [
       "  0%|          | 0/10000 [00:00<?, ?it/s]"
      ]
     },
     "metadata": {},
     "output_type": "display_data"
    },
    {
     "data": {
      "application/vnd.jupyter.widget-view+json": {
       "model_id": "5f22b97d0b774979bfd05b4243945351",
       "version_major": 2,
       "version_minor": 0
      },
      "text/plain": [
       "  0%|          | 0/10000 [00:00<?, ?it/s]"
      ]
     },
     "metadata": {},
     "output_type": "display_data"
    },
    {
     "data": {
      "application/vnd.jupyter.widget-view+json": {
       "model_id": "392983628c414398a83256c692dc937b",
       "version_major": 2,
       "version_minor": 0
      },
      "text/plain": [
       "  0%|          | 0/10000 [00:00<?, ?it/s]"
      ]
     },
     "metadata": {},
     "output_type": "display_data"
    },
    {
     "data": {
      "application/vnd.jupyter.widget-view+json": {
       "model_id": "81b16efddd0d4ecf9604e299536d183e",
       "version_major": 2,
       "version_minor": 0
      },
      "text/plain": [
       "  0%|          | 0/10000 [00:00<?, ?it/s]"
      ]
     },
     "metadata": {},
     "output_type": "display_data"
    },
    {
     "data": {
      "application/vnd.jupyter.widget-view+json": {
       "model_id": "6e9719561f9f4334bcfa4d57c7eeece9",
       "version_major": 2,
       "version_minor": 0
      },
      "text/plain": [
       "  0%|          | 0/10000 [00:00<?, ?it/s]"
      ]
     },
     "metadata": {},
     "output_type": "display_data"
    },
    {
     "data": {
      "application/vnd.jupyter.widget-view+json": {
       "model_id": "eb8b0860e66c426eae32c20eddba5dea",
       "version_major": 2,
       "version_minor": 0
      },
      "text/plain": [
       "  0%|          | 0/10000 [00:00<?, ?it/s]"
      ]
     },
     "metadata": {},
     "output_type": "display_data"
    },
    {
     "data": {
      "application/vnd.jupyter.widget-view+json": {
       "model_id": "1481466714ed49a2bb3d1bbd51272d02",
       "version_major": 2,
       "version_minor": 0
      },
      "text/plain": [
       "  0%|          | 0/10000 [00:00<?, ?it/s]"
      ]
     },
     "metadata": {},
     "output_type": "display_data"
    },
    {
     "data": {
      "application/vnd.jupyter.widget-view+json": {
       "model_id": "e26bbaddd7504d279892a92f5d98d4d3",
       "version_major": 2,
       "version_minor": 0
      },
      "text/plain": [
       "  0%|          | 0/10000 [00:00<?, ?it/s]"
      ]
     },
     "metadata": {},
     "output_type": "display_data"
    },
    {
     "data": {
      "application/vnd.jupyter.widget-view+json": {
       "model_id": "98cc879cc18848a28523086fe8f3cc61",
       "version_major": 2,
       "version_minor": 0
      },
      "text/plain": [
       "  0%|          | 0/10000 [00:00<?, ?it/s]"
      ]
     },
     "metadata": {},
     "output_type": "display_data"
    },
    {
     "data": {
      "application/vnd.jupyter.widget-view+json": {
       "model_id": "da92f359ff1c4e30a88b7efdfe024124",
       "version_major": 2,
       "version_minor": 0
      },
      "text/plain": [
       "  0%|          | 0/10000 [00:00<?, ?it/s]"
      ]
     },
     "metadata": {},
     "output_type": "display_data"
    },
    {
     "data": {
      "application/vnd.jupyter.widget-view+json": {
       "model_id": "f73aeee1af0b46c1ac87388b19cef870",
       "version_major": 2,
       "version_minor": 0
      },
      "text/plain": [
       "  0%|          | 0/10000 [00:00<?, ?it/s]"
      ]
     },
     "metadata": {},
     "output_type": "display_data"
    },
    {
     "data": {
      "application/vnd.jupyter.widget-view+json": {
       "model_id": "3c363eabbaac4395b73b75801d22e589",
       "version_major": 2,
       "version_minor": 0
      },
      "text/plain": [
       "  0%|          | 0/10000 [00:00<?, ?it/s]"
      ]
     },
     "metadata": {},
     "output_type": "display_data"
    },
    {
     "data": {
      "application/vnd.jupyter.widget-view+json": {
       "model_id": "c91eaffd2694490a8de9b9454e2f9253",
       "version_major": 2,
       "version_minor": 0
      },
      "text/plain": [
       "  0%|          | 0/10000 [00:00<?, ?it/s]"
      ]
     },
     "metadata": {},
     "output_type": "display_data"
    },
    {
     "data": {
      "application/vnd.jupyter.widget-view+json": {
       "model_id": "585990d6d5b7442db692d6857a3ac1d6",
       "version_major": 2,
       "version_minor": 0
      },
      "text/plain": [
       "  0%|          | 0/10000 [00:00<?, ?it/s]"
      ]
     },
     "metadata": {},
     "output_type": "display_data"
    },
    {
     "data": {
      "application/vnd.jupyter.widget-view+json": {
       "model_id": "d10e703ec03c42798355c46b41e75f4e",
       "version_major": 2,
       "version_minor": 0
      },
      "text/plain": [
       "  0%|          | 0/10000 [00:00<?, ?it/s]"
      ]
     },
     "metadata": {},
     "output_type": "display_data"
    },
    {
     "data": {
      "application/vnd.jupyter.widget-view+json": {
       "model_id": "f50e6a0fbe074535ba5974995fea75f7",
       "version_major": 2,
       "version_minor": 0
      },
      "text/plain": [
       "  0%|          | 0/10000 [00:00<?, ?it/s]"
      ]
     },
     "metadata": {},
     "output_type": "display_data"
    },
    {
     "data": {
      "application/vnd.jupyter.widget-view+json": {
       "model_id": "bd8623afe2ac47e3899570077ce11b90",
       "version_major": 2,
       "version_minor": 0
      },
      "text/plain": [
       "  0%|          | 0/10000 [00:00<?, ?it/s]"
      ]
     },
     "metadata": {},
     "output_type": "display_data"
    },
    {
     "data": {
      "application/vnd.jupyter.widget-view+json": {
       "model_id": "ec6b0943acc5456fac32a52bf47f1371",
       "version_major": 2,
       "version_minor": 0
      },
      "text/plain": [
       "  0%|          | 0/10000 [00:00<?, ?it/s]"
      ]
     },
     "metadata": {},
     "output_type": "display_data"
    },
    {
     "data": {
      "application/vnd.jupyter.widget-view+json": {
       "model_id": "d0238cf3ef874edc832837f6bc9414d0",
       "version_major": 2,
       "version_minor": 0
      },
      "text/plain": [
       "  0%|          | 0/10000 [00:00<?, ?it/s]"
      ]
     },
     "metadata": {},
     "output_type": "display_data"
    },
    {
     "data": {
      "application/vnd.jupyter.widget-view+json": {
       "model_id": "4bc72012fe6b484e95d521c943b03b29",
       "version_major": 2,
       "version_minor": 0
      },
      "text/plain": [
       "  0%|          | 0/10000 [00:00<?, ?it/s]"
      ]
     },
     "metadata": {},
     "output_type": "display_data"
    },
    {
     "data": {
      "application/vnd.jupyter.widget-view+json": {
       "model_id": "60defffbf4a04ff9a72d6d2a7354dfea",
       "version_major": 2,
       "version_minor": 0
      },
      "text/plain": [
       "  0%|          | 0/10000 [00:00<?, ?it/s]"
      ]
     },
     "metadata": {},
     "output_type": "display_data"
    },
    {
     "data": {
      "application/vnd.jupyter.widget-view+json": {
       "model_id": "17f783db005c417caeecf1b10dddb2e5",
       "version_major": 2,
       "version_minor": 0
      },
      "text/plain": [
       "  0%|          | 0/10000 [00:00<?, ?it/s]"
      ]
     },
     "metadata": {},
     "output_type": "display_data"
    },
    {
     "data": {
      "application/vnd.jupyter.widget-view+json": {
       "model_id": "9b46ecc71d6f4157bb97bf9bf84b4fe1",
       "version_major": 2,
       "version_minor": 0
      },
      "text/plain": [
       "  0%|          | 0/10000 [00:00<?, ?it/s]"
      ]
     },
     "metadata": {},
     "output_type": "display_data"
    },
    {
     "data": {
      "application/vnd.jupyter.widget-view+json": {
       "model_id": "af6ed4e8fd2d4a279e43ee668bd3737d",
       "version_major": 2,
       "version_minor": 0
      },
      "text/plain": [
       "  0%|          | 0/10000 [00:00<?, ?it/s]"
      ]
     },
     "metadata": {},
     "output_type": "display_data"
    },
    {
     "data": {
      "application/vnd.jupyter.widget-view+json": {
       "model_id": "3daf5d2cd2f6488db9efc9053671d1a1",
       "version_major": 2,
       "version_minor": 0
      },
      "text/plain": [
       "  0%|          | 0/10000 [00:00<?, ?it/s]"
      ]
     },
     "metadata": {},
     "output_type": "display_data"
    },
    {
     "data": {
      "application/vnd.jupyter.widget-view+json": {
       "model_id": "db71c602eae5464fb67e7c7b237a012d",
       "version_major": 2,
       "version_minor": 0
      },
      "text/plain": [
       "  0%|          | 0/10000 [00:00<?, ?it/s]"
      ]
     },
     "metadata": {},
     "output_type": "display_data"
    },
    {
     "data": {
      "application/vnd.jupyter.widget-view+json": {
       "model_id": "61ab00d6b5df44fc8b209388de050b97",
       "version_major": 2,
       "version_minor": 0
      },
      "text/plain": [
       "  0%|          | 0/10000 [00:00<?, ?it/s]"
      ]
     },
     "metadata": {},
     "output_type": "display_data"
    },
    {
     "name": "stdout",
     "output_type": "stream",
     "text": [
      "[0.3  0.24 0.88 0.07 0.65]\n"
     ]
    },
    {
     "data": {
      "application/vnd.jupyter.widget-view+json": {
       "model_id": "d80c571e0e534912928bc4de209ce500",
       "version_major": 2,
       "version_minor": 0
      },
      "text/plain": [
       "  0%|          | 0/30 [00:00<?, ?it/s]"
      ]
     },
     "metadata": {},
     "output_type": "display_data"
    },
    {
     "data": {
      "application/vnd.jupyter.widget-view+json": {
       "model_id": "6865aec119d84e7fab6d713d350a6e98",
       "version_major": 2,
       "version_minor": 0
      },
      "text/plain": [
       "  0%|          | 0/10000 [00:00<?, ?it/s]"
      ]
     },
     "metadata": {},
     "output_type": "display_data"
    },
    {
     "data": {
      "application/vnd.jupyter.widget-view+json": {
       "model_id": "0cf4206ed11f48d3a66e4441b4c462cf",
       "version_major": 2,
       "version_minor": 0
      },
      "text/plain": [
       "  0%|          | 0/10000 [00:00<?, ?it/s]"
      ]
     },
     "metadata": {},
     "output_type": "display_data"
    },
    {
     "data": {
      "application/vnd.jupyter.widget-view+json": {
       "model_id": "0cdf4f88b7644d259ed1764fc7a69563",
       "version_major": 2,
       "version_minor": 0
      },
      "text/plain": [
       "  0%|          | 0/10000 [00:00<?, ?it/s]"
      ]
     },
     "metadata": {},
     "output_type": "display_data"
    },
    {
     "data": {
      "application/vnd.jupyter.widget-view+json": {
       "model_id": "bee13374b9294bc2857e7ec38e187502",
       "version_major": 2,
       "version_minor": 0
      },
      "text/plain": [
       "  0%|          | 0/10000 [00:00<?, ?it/s]"
      ]
     },
     "metadata": {},
     "output_type": "display_data"
    },
    {
     "data": {
      "application/vnd.jupyter.widget-view+json": {
       "model_id": "dae10dfd033b4528bdc476e94013b4c5",
       "version_major": 2,
       "version_minor": 0
      },
      "text/plain": [
       "  0%|          | 0/10000 [00:00<?, ?it/s]"
      ]
     },
     "metadata": {},
     "output_type": "display_data"
    },
    {
     "data": {
      "application/vnd.jupyter.widget-view+json": {
       "model_id": "705b3fdf91854a21b69e29ab35adf3ab",
       "version_major": 2,
       "version_minor": 0
      },
      "text/plain": [
       "  0%|          | 0/10000 [00:00<?, ?it/s]"
      ]
     },
     "metadata": {},
     "output_type": "display_data"
    },
    {
     "data": {
      "application/vnd.jupyter.widget-view+json": {
       "model_id": "b289571b98f2498980297eb323e9b53e",
       "version_major": 2,
       "version_minor": 0
      },
      "text/plain": [
       "  0%|          | 0/10000 [00:00<?, ?it/s]"
      ]
     },
     "metadata": {},
     "output_type": "display_data"
    },
    {
     "data": {
      "application/vnd.jupyter.widget-view+json": {
       "model_id": "2fdd2ecd74a34d188a1046ae845c0064",
       "version_major": 2,
       "version_minor": 0
      },
      "text/plain": [
       "  0%|          | 0/10000 [00:00<?, ?it/s]"
      ]
     },
     "metadata": {},
     "output_type": "display_data"
    },
    {
     "data": {
      "application/vnd.jupyter.widget-view+json": {
       "model_id": "34546d60cea94e17a988fb17aaa11d10",
       "version_major": 2,
       "version_minor": 0
      },
      "text/plain": [
       "  0%|          | 0/10000 [00:00<?, ?it/s]"
      ]
     },
     "metadata": {},
     "output_type": "display_data"
    },
    {
     "data": {
      "application/vnd.jupyter.widget-view+json": {
       "model_id": "530891ae131b4637b3c28678930038de",
       "version_major": 2,
       "version_minor": 0
      },
      "text/plain": [
       "  0%|          | 0/10000 [00:00<?, ?it/s]"
      ]
     },
     "metadata": {},
     "output_type": "display_data"
    },
    {
     "data": {
      "application/vnd.jupyter.widget-view+json": {
       "model_id": "a85f6a17a70f404488ae3ae3303933eb",
       "version_major": 2,
       "version_minor": 0
      },
      "text/plain": [
       "  0%|          | 0/10000 [00:00<?, ?it/s]"
      ]
     },
     "metadata": {},
     "output_type": "display_data"
    },
    {
     "data": {
      "application/vnd.jupyter.widget-view+json": {
       "model_id": "6b14bd8058f7449881afb05e657e4704",
       "version_major": 2,
       "version_minor": 0
      },
      "text/plain": [
       "  0%|          | 0/10000 [00:00<?, ?it/s]"
      ]
     },
     "metadata": {},
     "output_type": "display_data"
    },
    {
     "data": {
      "application/vnd.jupyter.widget-view+json": {
       "model_id": "514c18d3fffe47a4b11ee5b06e818735",
       "version_major": 2,
       "version_minor": 0
      },
      "text/plain": [
       "  0%|          | 0/10000 [00:00<?, ?it/s]"
      ]
     },
     "metadata": {},
     "output_type": "display_data"
    },
    {
     "data": {
      "application/vnd.jupyter.widget-view+json": {
       "model_id": "251c15c1d4db40e3aa2771d0d4e510e2",
       "version_major": 2,
       "version_minor": 0
      },
      "text/plain": [
       "  0%|          | 0/10000 [00:00<?, ?it/s]"
      ]
     },
     "metadata": {},
     "output_type": "display_data"
    },
    {
     "data": {
      "application/vnd.jupyter.widget-view+json": {
       "model_id": "a89f6b27d8f3488a89f40a68ca6dbd79",
       "version_major": 2,
       "version_minor": 0
      },
      "text/plain": [
       "  0%|          | 0/10000 [00:00<?, ?it/s]"
      ]
     },
     "metadata": {},
     "output_type": "display_data"
    },
    {
     "data": {
      "application/vnd.jupyter.widget-view+json": {
       "model_id": "6855c62d28694854977d173868a7a919",
       "version_major": 2,
       "version_minor": 0
      },
      "text/plain": [
       "  0%|          | 0/10000 [00:00<?, ?it/s]"
      ]
     },
     "metadata": {},
     "output_type": "display_data"
    },
    {
     "data": {
      "application/vnd.jupyter.widget-view+json": {
       "model_id": "60cba5a6692648e2b94df1abd4c79773",
       "version_major": 2,
       "version_minor": 0
      },
      "text/plain": [
       "  0%|          | 0/10000 [00:00<?, ?it/s]"
      ]
     },
     "metadata": {},
     "output_type": "display_data"
    },
    {
     "data": {
      "application/vnd.jupyter.widget-view+json": {
       "model_id": "cfd32d7b687e457490817649b3ea993a",
       "version_major": 2,
       "version_minor": 0
      },
      "text/plain": [
       "  0%|          | 0/10000 [00:00<?, ?it/s]"
      ]
     },
     "metadata": {},
     "output_type": "display_data"
    },
    {
     "data": {
      "application/vnd.jupyter.widget-view+json": {
       "model_id": "72da18e19b264d698614768ed80030cf",
       "version_major": 2,
       "version_minor": 0
      },
      "text/plain": [
       "  0%|          | 0/10000 [00:00<?, ?it/s]"
      ]
     },
     "metadata": {},
     "output_type": "display_data"
    },
    {
     "data": {
      "application/vnd.jupyter.widget-view+json": {
       "model_id": "2bdefa579925491489f1af52d283b1bd",
       "version_major": 2,
       "version_minor": 0
      },
      "text/plain": [
       "  0%|          | 0/10000 [00:00<?, ?it/s]"
      ]
     },
     "metadata": {},
     "output_type": "display_data"
    },
    {
     "data": {
      "application/vnd.jupyter.widget-view+json": {
       "model_id": "77231883d75144dc9fb2d470dc4ed469",
       "version_major": 2,
       "version_minor": 0
      },
      "text/plain": [
       "  0%|          | 0/10000 [00:00<?, ?it/s]"
      ]
     },
     "metadata": {},
     "output_type": "display_data"
    },
    {
     "data": {
      "application/vnd.jupyter.widget-view+json": {
       "model_id": "6ba6b7763f754671a55b55005eac6a64",
       "version_major": 2,
       "version_minor": 0
      },
      "text/plain": [
       "  0%|          | 0/10000 [00:00<?, ?it/s]"
      ]
     },
     "metadata": {},
     "output_type": "display_data"
    },
    {
     "data": {
      "application/vnd.jupyter.widget-view+json": {
       "model_id": "51c38b3a23084b5290eff8da9a6695b4",
       "version_major": 2,
       "version_minor": 0
      },
      "text/plain": [
       "  0%|          | 0/10000 [00:00<?, ?it/s]"
      ]
     },
     "metadata": {},
     "output_type": "display_data"
    },
    {
     "data": {
      "application/vnd.jupyter.widget-view+json": {
       "model_id": "f180dbcf334b402fb42138857dead640",
       "version_major": 2,
       "version_minor": 0
      },
      "text/plain": [
       "  0%|          | 0/10000 [00:00<?, ?it/s]"
      ]
     },
     "metadata": {},
     "output_type": "display_data"
    },
    {
     "data": {
      "application/vnd.jupyter.widget-view+json": {
       "model_id": "5fb9e26894be481684ecad74ee2c380b",
       "version_major": 2,
       "version_minor": 0
      },
      "text/plain": [
       "  0%|          | 0/10000 [00:00<?, ?it/s]"
      ]
     },
     "metadata": {},
     "output_type": "display_data"
    },
    {
     "data": {
      "application/vnd.jupyter.widget-view+json": {
       "model_id": "4d47d4c222d24578940cd0f092f6f5a9",
       "version_major": 2,
       "version_minor": 0
      },
      "text/plain": [
       "  0%|          | 0/10000 [00:00<?, ?it/s]"
      ]
     },
     "metadata": {},
     "output_type": "display_data"
    },
    {
     "data": {
      "application/vnd.jupyter.widget-view+json": {
       "model_id": "6f89acb794fb4741b64b071c327a62a9",
       "version_major": 2,
       "version_minor": 0
      },
      "text/plain": [
       "  0%|          | 0/10000 [00:00<?, ?it/s]"
      ]
     },
     "metadata": {},
     "output_type": "display_data"
    },
    {
     "data": {
      "application/vnd.jupyter.widget-view+json": {
       "model_id": "96d271cefac14e9a8c2cac8067d345c6",
       "version_major": 2,
       "version_minor": 0
      },
      "text/plain": [
       "  0%|          | 0/10000 [00:00<?, ?it/s]"
      ]
     },
     "metadata": {},
     "output_type": "display_data"
    },
    {
     "data": {
      "application/vnd.jupyter.widget-view+json": {
       "model_id": "e81e9d2c056946c5b9004ac105caaf24",
       "version_major": 2,
       "version_minor": 0
      },
      "text/plain": [
       "  0%|          | 0/10000 [00:00<?, ?it/s]"
      ]
     },
     "metadata": {},
     "output_type": "display_data"
    },
    {
     "data": {
      "application/vnd.jupyter.widget-view+json": {
       "model_id": "e6414fadfaa94259a1a24afea6797bea",
       "version_major": 2,
       "version_minor": 0
      },
      "text/plain": [
       "  0%|          | 0/10000 [00:00<?, ?it/s]"
      ]
     },
     "metadata": {},
     "output_type": "display_data"
    },
    {
     "data": {
      "application/vnd.jupyter.widget-view+json": {
       "model_id": "b5f1cdab221d49899e2bb20d335cf250",
       "version_major": 2,
       "version_minor": 0
      },
      "text/plain": [
       "  0%|          | 0/10000 [00:00<?, ?it/s]"
      ]
     },
     "metadata": {},
     "output_type": "display_data"
    },
    {
     "data": {
      "application/vnd.jupyter.widget-view+json": {
       "model_id": "aadab43898c34a8e81427f0687d435ab",
       "version_major": 2,
       "version_minor": 0
      },
      "text/plain": [
       "  0%|          | 0/10000 [00:00<?, ?it/s]"
      ]
     },
     "metadata": {},
     "output_type": "display_data"
    },
    {
     "data": {
      "application/vnd.jupyter.widget-view+json": {
       "model_id": "c2610449928f4c65bbc85f818f29ce9d",
       "version_major": 2,
       "version_minor": 0
      },
      "text/plain": [
       "  0%|          | 0/10000 [00:00<?, ?it/s]"
      ]
     },
     "metadata": {},
     "output_type": "display_data"
    },
    {
     "data": {
      "application/vnd.jupyter.widget-view+json": {
       "model_id": "ab33952d00d74846889f08ea2c0bc816",
       "version_major": 2,
       "version_minor": 0
      },
      "text/plain": [
       "  0%|          | 0/10000 [00:00<?, ?it/s]"
      ]
     },
     "metadata": {},
     "output_type": "display_data"
    },
    {
     "data": {
      "application/vnd.jupyter.widget-view+json": {
       "model_id": "a044409bdd5c4aada64cc8bde392da65",
       "version_major": 2,
       "version_minor": 0
      },
      "text/plain": [
       "  0%|          | 0/10000 [00:00<?, ?it/s]"
      ]
     },
     "metadata": {},
     "output_type": "display_data"
    },
    {
     "data": {
      "application/vnd.jupyter.widget-view+json": {
       "model_id": "f5be2f6232d844f981c635d623ac4f1d",
       "version_major": 2,
       "version_minor": 0
      },
      "text/plain": [
       "  0%|          | 0/10000 [00:00<?, ?it/s]"
      ]
     },
     "metadata": {},
     "output_type": "display_data"
    },
    {
     "data": {
      "application/vnd.jupyter.widget-view+json": {
       "model_id": "d5a65c06945a47ca85933e521d5dfb4f",
       "version_major": 2,
       "version_minor": 0
      },
      "text/plain": [
       "  0%|          | 0/10000 [00:00<?, ?it/s]"
      ]
     },
     "metadata": {},
     "output_type": "display_data"
    },
    {
     "data": {
      "application/vnd.jupyter.widget-view+json": {
       "model_id": "7405700412784d9fac865dd82fc1957f",
       "version_major": 2,
       "version_minor": 0
      },
      "text/plain": [
       "  0%|          | 0/10000 [00:00<?, ?it/s]"
      ]
     },
     "metadata": {},
     "output_type": "display_data"
    },
    {
     "data": {
      "application/vnd.jupyter.widget-view+json": {
       "model_id": "7c07265bb4ca423b9f4a2a3325bf6a01",
       "version_major": 2,
       "version_minor": 0
      },
      "text/plain": [
       "  0%|          | 0/10000 [00:00<?, ?it/s]"
      ]
     },
     "metadata": {},
     "output_type": "display_data"
    },
    {
     "data": {
      "application/vnd.jupyter.widget-view+json": {
       "model_id": "e17cbc78aeb84383a6a72edae4da16d2",
       "version_major": 2,
       "version_minor": 0
      },
      "text/plain": [
       "  0%|          | 0/10000 [00:00<?, ?it/s]"
      ]
     },
     "metadata": {},
     "output_type": "display_data"
    },
    {
     "data": {
      "application/vnd.jupyter.widget-view+json": {
       "model_id": "dda2cadf2dc14fb6b596b91e9557084d",
       "version_major": 2,
       "version_minor": 0
      },
      "text/plain": [
       "  0%|          | 0/10000 [00:00<?, ?it/s]"
      ]
     },
     "metadata": {},
     "output_type": "display_data"
    },
    {
     "data": {
      "application/vnd.jupyter.widget-view+json": {
       "model_id": "0084e51d72674e6e9e9df12b70dbb771",
       "version_major": 2,
       "version_minor": 0
      },
      "text/plain": [
       "  0%|          | 0/10000 [00:00<?, ?it/s]"
      ]
     },
     "metadata": {},
     "output_type": "display_data"
    },
    {
     "data": {
      "application/vnd.jupyter.widget-view+json": {
       "model_id": "9c80f1ed6686463cabbbdcaf9044809d",
       "version_major": 2,
       "version_minor": 0
      },
      "text/plain": [
       "  0%|          | 0/10000 [00:00<?, ?it/s]"
      ]
     },
     "metadata": {},
     "output_type": "display_data"
    },
    {
     "data": {
      "application/vnd.jupyter.widget-view+json": {
       "model_id": "f1c5fdc778894933b2ce88e3217e4345",
       "version_major": 2,
       "version_minor": 0
      },
      "text/plain": [
       "  0%|          | 0/10000 [00:00<?, ?it/s]"
      ]
     },
     "metadata": {},
     "output_type": "display_data"
    },
    {
     "data": {
      "application/vnd.jupyter.widget-view+json": {
       "model_id": "dbe24f8134b0491db02fc3730bde0249",
       "version_major": 2,
       "version_minor": 0
      },
      "text/plain": [
       "  0%|          | 0/10000 [00:00<?, ?it/s]"
      ]
     },
     "metadata": {},
     "output_type": "display_data"
    },
    {
     "data": {
      "application/vnd.jupyter.widget-view+json": {
       "model_id": "38eec12a0f534384a04ebc934a50667d",
       "version_major": 2,
       "version_minor": 0
      },
      "text/plain": [
       "  0%|          | 0/10000 [00:00<?, ?it/s]"
      ]
     },
     "metadata": {},
     "output_type": "display_data"
    },
    {
     "data": {
      "application/vnd.jupyter.widget-view+json": {
       "model_id": "366876660f2749029dff2ed84f634740",
       "version_major": 2,
       "version_minor": 0
      },
      "text/plain": [
       "  0%|          | 0/10000 [00:00<?, ?it/s]"
      ]
     },
     "metadata": {},
     "output_type": "display_data"
    },
    {
     "data": {
      "application/vnd.jupyter.widget-view+json": {
       "model_id": "5c8c31452f5f4fee8efd019884d2fc3e",
       "version_major": 2,
       "version_minor": 0
      },
      "text/plain": [
       "  0%|          | 0/10000 [00:00<?, ?it/s]"
      ]
     },
     "metadata": {},
     "output_type": "display_data"
    },
    {
     "data": {
      "application/vnd.jupyter.widget-view+json": {
       "model_id": "8b9b7cd202dc422b90c5530b8e142729",
       "version_major": 2,
       "version_minor": 0
      },
      "text/plain": [
       "  0%|          | 0/10000 [00:00<?, ?it/s]"
      ]
     },
     "metadata": {},
     "output_type": "display_data"
    },
    {
     "data": {
      "application/vnd.jupyter.widget-view+json": {
       "model_id": "6e4bd1b6716f4762bb0059537e96c7b0",
       "version_major": 2,
       "version_minor": 0
      },
      "text/plain": [
       "  0%|          | 0/10000 [00:00<?, ?it/s]"
      ]
     },
     "metadata": {},
     "output_type": "display_data"
    },
    {
     "data": {
      "application/vnd.jupyter.widget-view+json": {
       "model_id": "62f21a0ea24f474d82146591e1a01ee8",
       "version_major": 2,
       "version_minor": 0
      },
      "text/plain": [
       "  0%|          | 0/10000 [00:00<?, ?it/s]"
      ]
     },
     "metadata": {},
     "output_type": "display_data"
    },
    {
     "data": {
      "application/vnd.jupyter.widget-view+json": {
       "model_id": "9c12d0c197d54e43ac43415653d85681",
       "version_major": 2,
       "version_minor": 0
      },
      "text/plain": [
       "  0%|          | 0/10000 [00:00<?, ?it/s]"
      ]
     },
     "metadata": {},
     "output_type": "display_data"
    },
    {
     "data": {
      "application/vnd.jupyter.widget-view+json": {
       "model_id": "7dcf888e70f04c81b4c568c8530b0842",
       "version_major": 2,
       "version_minor": 0
      },
      "text/plain": [
       "  0%|          | 0/10000 [00:00<?, ?it/s]"
      ]
     },
     "metadata": {},
     "output_type": "display_data"
    },
    {
     "data": {
      "application/vnd.jupyter.widget-view+json": {
       "model_id": "c5ccda58734a496cbb8b2477004e1b2b",
       "version_major": 2,
       "version_minor": 0
      },
      "text/plain": [
       "  0%|          | 0/10000 [00:00<?, ?it/s]"
      ]
     },
     "metadata": {},
     "output_type": "display_data"
    },
    {
     "data": {
      "application/vnd.jupyter.widget-view+json": {
       "model_id": "dc32efc480d9460289f6769f66cc80a7",
       "version_major": 2,
       "version_minor": 0
      },
      "text/plain": [
       "  0%|          | 0/10000 [00:00<?, ?it/s]"
      ]
     },
     "metadata": {},
     "output_type": "display_data"
    },
    {
     "data": {
      "application/vnd.jupyter.widget-view+json": {
       "model_id": "dbd69fab6f1546ce8ca64a781e648773",
       "version_major": 2,
       "version_minor": 0
      },
      "text/plain": [
       "  0%|          | 0/10000 [00:00<?, ?it/s]"
      ]
     },
     "metadata": {},
     "output_type": "display_data"
    },
    {
     "data": {
      "application/vnd.jupyter.widget-view+json": {
       "model_id": "78bae8681d444999a4091c916da4ef61",
       "version_major": 2,
       "version_minor": 0
      },
      "text/plain": [
       "  0%|          | 0/10000 [00:00<?, ?it/s]"
      ]
     },
     "metadata": {},
     "output_type": "display_data"
    },
    {
     "data": {
      "application/vnd.jupyter.widget-view+json": {
       "model_id": "ba610ff593a641e1990ff847281fef6c",
       "version_major": 2,
       "version_minor": 0
      },
      "text/plain": [
       "  0%|          | 0/10000 [00:00<?, ?it/s]"
      ]
     },
     "metadata": {},
     "output_type": "display_data"
    },
    {
     "data": {
      "application/vnd.jupyter.widget-view+json": {
       "model_id": "2414c35cdbfd42518922c7e970820c15",
       "version_major": 2,
       "version_minor": 0
      },
      "text/plain": [
       "  0%|          | 0/10000 [00:00<?, ?it/s]"
      ]
     },
     "metadata": {},
     "output_type": "display_data"
    },
    {
     "data": {
      "application/vnd.jupyter.widget-view+json": {
       "model_id": "ae17532832984816a096c10283616d49",
       "version_major": 2,
       "version_minor": 0
      },
      "text/plain": [
       "  0%|          | 0/10000 [00:00<?, ?it/s]"
      ]
     },
     "metadata": {},
     "output_type": "display_data"
    }
   ],
   "source": [
    "horizon, episodes, K = 10000,30, 5   #horizon, episodes, number of arms\n",
    "s_min, s_max = 0,1\n",
    "theta_min, theta_max, theta_var = 0, 1, 1\n",
    "\n",
    "mean_ipa_simulation, std_ipa_simulation = simulation_many_episodes(ipa(K, horizon, s_min, s_max), horizon, episodes, K, s_min, s_max, theta_min, theta_max, theta_var)\n",
    "mean_eps_greedy_simulation, std_eps_greedy_simulation = simulation_many_episodes(epsilon_greedy(K, horizon, s_min, s_max), horizon, episodes, K, s_min, s_max, theta_min, theta_max, theta_var)\n",
    "mean_ucb_simulation, std_ucb_simulation = simulation_many_episodes_UCB(UCB(K, horizon), horizon, episodes, K, theta_var)"
   ]
  },
  {
   "cell_type": "code",
   "execution_count": 46,
   "metadata": {},
   "outputs": [
    {
     "data": {
      "image/png": "[encoded data removed]",
      "text/plain": [
       "<Figure size 800x500 with 1 Axes>"
      ]
     },
     "metadata": {},
     "output_type": "display_data"
    }
   ],
   "source": [
    "plt.figure(figsize=(8,5))\n",
    "color_ipa = 'blue'\n",
    "color_eps_greedy = 'orange'\n",
    "color_ucb = 'green'\n",
    "plt.plot(mean_ipa_simulation, label=\"IPA\", color = color_ipa)\n",
    "plt.plot(mean_ipa_simulation - std_ipa_simulation/(episodes**0.5), color=color_ipa, alpha=0.2)\n",
    "plt.plot(mean_ipa_simulation + std_ipa_simulation/(episodes**0.5), color=color_ipa, alpha=0.2)\n",
    "plt.fill_between(\n",
    "    range(len(mean_ipa_simulation)),\n",
    "    mean_ipa_simulation - std_ipa_simulation/(episodes**0.5),\n",
    "    mean_ipa_simulation + std_ipa_simulation/(episodes**0.5),\n",
    "    color=color_ipa,\n",
    "    alpha=0.2,\n",
    ")\n",
    "plt.plot(mean_eps_greedy_simulation, label=\"Principal's $\\epsilon$-Greedy\", color = color_eps_greedy)\n",
    "plt.plot(mean_eps_greedy_simulation - std_eps_greedy_simulation/(episodes**0.5), color = color_eps_greedy, alpha = 0.2)\n",
    "plt.plot(mean_eps_greedy_simulation + std_eps_greedy_simulation/(episodes**0.5), color = color_eps_greedy, alpha = 0.2)\n",
    "plt.fill_between(\n",
    "    range(len(mean_eps_greedy_simulation)),\n",
    "    mean_eps_greedy_simulation - std_eps_greedy_simulation/(episodes**0.5),\n",
    "    mean_eps_greedy_simulation + std_eps_greedy_simulation/(episodes**0.5),\n",
    "    color=color_eps_greedy,\n",
    "    alpha=0.2,\n",
    ")\n",
    "plt.plot(mean_ucb_simulation, label=\"UCB oracle\", color = color_ucb)\n",
    "plt.plot(mean_ucb_simulation - std_ucb_simulation/(episodes**0.5), color = color_ucb, alpha = 0.2)\n",
    "plt.plot(mean_ucb_simulation + std_ucb_simulation/(episodes**0.5), color = color_ucb, alpha = 0.2)\n",
    "plt.fill_between(\n",
    "    range(len(mean_ucb_simulation)),\n",
    "    mean_ucb_simulation - std_ucb_simulation/(episodes**0.5),\n",
    "    mean_ucb_simulation + std_ucb_simulation/(episodes**0.5),\n",
    "    color=color_ucb,\n",
    "    alpha=0.2,\n",
    ")\n",
    "plt.xlabel('Time step $t$', fontsize=10)\n",
    "plt.ylabel('Cumulative regret', fontsize=10)\n",
    "plt.title('simulation_multi_armed_T=10000_30_episodes_K=5_m=500_rewards_0_1')\n",
    "plt.grid(alpha=0.5)\n",
    "plt.legend()\n",
    "plt.savefig('simulation_multi_armed_T=10000_30_episodes_K=500_m=500_rewards_0_1_std.pdf')"
   ]
  },
  {
   "cell_type": "code",
   "execution_count": null,
   "metadata": {},
   "outputs": [],
   "source": []
  }
 ],
 "metadata": {
  "kernelspec": {
   "display_name": "Python 3 (ipykernel)",
   "language": "python",
   "name": "python3"
  },
  "language_info": {
   "codemirror_mode": {
    "name": "ipython",
    "version": 3
   },
   "file_extension": ".py",
   "mimetype": "text/x-python",
   "name": "python",
   "nbconvert_exporter": "python",
   "pygments_lexer": "ipython3",
   "version": "3.11.7"
  }
 },
 "nbformat": 4,
 "nbformat_minor": 4
}
